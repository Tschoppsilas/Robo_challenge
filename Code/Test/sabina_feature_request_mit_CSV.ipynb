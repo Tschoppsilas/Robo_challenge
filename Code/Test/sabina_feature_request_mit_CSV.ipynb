{
 "cells": [
  {
   "cell_type": "markdown",
   "id": "77f73e75",
   "metadata": {},
   "source": [
    "# ZUMI MAIN"
   ]
  },
  {
   "cell_type": "code",
   "id": "6a0cd944",
   "metadata": {
    "ExecuteTime": {
     "end_time": "2025-04-11T13:42:23.916116Z",
     "start_time": "2025-04-11T13:42:23.365867Z"
    }
   },
   "source": [
    "from zumi.zumi import Zumi\n",
    "import time\n",
    "\n",
    "import csv\n",
    "from datetime import datetime\n",
    "import os\n",
    "from zumi.util.screen import Screen\n",
    "\n",
    "from zumi.util.camera import Camera\n",
    "from zumi.util.vision import Vision\n",
    "\n",
    "from zumi.personality import Personality\n",
    "from datetime import datetime"
   ],
   "outputs": [
    {
     "ename": "ModuleNotFoundError",
     "evalue": "No module named 'fcntl'",
     "output_type": "error",
     "traceback": [
      "\u001B[31m---------------------------------------------------------------------------\u001B[39m",
      "\u001B[31mModuleNotFoundError\u001B[39m                       Traceback (most recent call last)",
      "\u001B[36mCell\u001B[39m\u001B[36m \u001B[39m\u001B[32mIn[12]\u001B[39m\u001B[32m, line 1\u001B[39m\n\u001B[32m----> \u001B[39m\u001B[32m1\u001B[39m \u001B[38;5;28;01mfrom\u001B[39;00m\u001B[38;5;250m \u001B[39m\u001B[34;01mzumi\u001B[39;00m\u001B[34;01m.\u001B[39;00m\u001B[34;01mzumi\u001B[39;00m\u001B[38;5;250m \u001B[39m\u001B[38;5;28;01mimport\u001B[39;00m Zumi\n\u001B[32m      2\u001B[39m \u001B[38;5;28;01mimport\u001B[39;00m\u001B[38;5;250m \u001B[39m\u001B[34;01mtime\u001B[39;00m\n\u001B[32m      4\u001B[39m \u001B[38;5;28;01mimport\u001B[39;00m\u001B[38;5;250m \u001B[39m\u001B[34;01mcsv\u001B[39;00m\n",
      "\u001B[36mFile \u001B[39m\u001B[32m~\\PycharmProjects\\robot_challenge_fs25\\venv\\Lib\\site-packages\\zumi\\zumi.py:4\u001B[39m\n\u001B[32m      1\u001B[39m \u001B[38;5;66;03m# Zumi python library version 1.66\u001B[39;00m\n\u001B[32m      3\u001B[39m \u001B[38;5;28;01mimport\u001B[39;00m\u001B[38;5;250m \u001B[39m\u001B[34;01mos\u001B[39;00m\n\u001B[32m----> \u001B[39m\u001B[32m4\u001B[39m \u001B[38;5;28;01mimport\u001B[39;00m\u001B[38;5;250m \u001B[39m\u001B[34;01msmbus2\u001B[39;00m\n\u001B[32m      5\u001B[39m \u001B[38;5;28;01mimport\u001B[39;00m\u001B[38;5;250m \u001B[39m\u001B[34;01mtime\u001B[39;00m\n\u001B[32m      6\u001B[39m \u001B[38;5;28;01mimport\u001B[39;00m\u001B[38;5;250m \u001B[39m\u001B[34;01mconfigparser\u001B[39;00m\n",
      "\u001B[36mFile \u001B[39m\u001B[32m~\\PycharmProjects\\robot_challenge_fs25\\venv\\Lib\\site-packages\\smbus2\\__init__.py:23\u001B[39m\n\u001B[32m      1\u001B[39m \u001B[33;03m\"\"\"smbus2 - A drop-in replacement for smbus-cffi/smbus-python\"\"\"\u001B[39;00m\n\u001B[32m      2\u001B[39m \u001B[38;5;66;03m# The MIT License (MIT)\u001B[39;00m\n\u001B[32m      3\u001B[39m \u001B[38;5;66;03m# Copyright (c) 2020 Karl-Petter Lindegaard\u001B[39;00m\n\u001B[32m      4\u001B[39m \u001B[38;5;66;03m#\u001B[39;00m\n\u001B[32m   (...)\u001B[39m\u001B[32m     20\u001B[39m \u001B[38;5;66;03m# OUT OF OR IN CONNECTION WITH THE SOFTWARE OR THE USE OR OTHER DEALINGS IN THE\u001B[39;00m\n\u001B[32m     21\u001B[39m \u001B[38;5;66;03m# SOFTWARE.\u001B[39;00m\n\u001B[32m---> \u001B[39m\u001B[32m23\u001B[39m \u001B[38;5;28;01mfrom\u001B[39;00m\u001B[38;5;250m \u001B[39m\u001B[34;01m.\u001B[39;00m\u001B[34;01msmbus2\u001B[39;00m\u001B[38;5;250m \u001B[39m\u001B[38;5;28;01mimport\u001B[39;00m SMBus, i2c_msg, I2cFunc  \u001B[38;5;66;03m# noqa: F401\u001B[39;00m\n\u001B[32m     25\u001B[39m __version__ = \u001B[33m\"\u001B[39m\u001B[33m0.5.0\u001B[39m\u001B[33m\"\u001B[39m\n\u001B[32m     26\u001B[39m __all__ = [\u001B[33m\"\u001B[39m\u001B[33mSMBus\u001B[39m\u001B[33m\"\u001B[39m, \u001B[33m\"\u001B[39m\u001B[33mi2c_msg\u001B[39m\u001B[33m\"\u001B[39m, \u001B[33m\"\u001B[39m\u001B[33mI2cFunc\u001B[39m\u001B[33m\"\u001B[39m]\n",
      "\u001B[36mFile \u001B[39m\u001B[32m~\\PycharmProjects\\robot_challenge_fs25\\venv\\Lib\\site-packages\\smbus2\\smbus2.py:25\u001B[39m\n\u001B[32m     23\u001B[39m \u001B[38;5;28;01mimport\u001B[39;00m\u001B[38;5;250m \u001B[39m\u001B[34;01mos\u001B[39;00m\n\u001B[32m     24\u001B[39m \u001B[38;5;28;01mimport\u001B[39;00m\u001B[38;5;250m \u001B[39m\u001B[34;01msys\u001B[39;00m\n\u001B[32m---> \u001B[39m\u001B[32m25\u001B[39m \u001B[38;5;28;01mfrom\u001B[39;00m\u001B[38;5;250m \u001B[39m\u001B[34;01mfcntl\u001B[39;00m\u001B[38;5;250m \u001B[39m\u001B[38;5;28;01mimport\u001B[39;00m ioctl\n\u001B[32m     26\u001B[39m \u001B[38;5;28;01mfrom\u001B[39;00m\u001B[38;5;250m \u001B[39m\u001B[34;01mctypes\u001B[39;00m\u001B[38;5;250m \u001B[39m\u001B[38;5;28;01mimport\u001B[39;00m c_uint32, c_uint8, c_uint16, c_char, POINTER, Structure, Array, Union, create_string_buffer, string_at\n\u001B[32m     29\u001B[39m \u001B[38;5;66;03m# Commands from uapi/linux/i2c-dev.h\u001B[39;00m\n",
      "\u001B[31mModuleNotFoundError\u001B[39m: No module named 'fcntl'"
     ]
    }
   ],
   "execution_count": 12
  },
  {
   "cell_type": "code",
   "id": "e44871c5",
   "metadata": {
    "ExecuteTime": {
     "end_time": "2025-04-11T13:40:01.937053Z",
     "start_time": "2025-04-11T13:40:01.890518Z"
    }
   },
   "source": [
    "zumi = Zumi()\n",
    "zumi.reset_gyro()\n",
    "camera = Camera()\n",
    "screen = Screen()\n",
    "personality = Personality(zumi, screen)\n",
    "vision = Vision()"
   ],
   "outputs": [
    {
     "ename": "NameError",
     "evalue": "name 'Zumi' is not defined",
     "output_type": "error",
     "traceback": [
      "\u001B[31m---------------------------------------------------------------------------\u001B[39m",
      "\u001B[31mNameError\u001B[39m                                 Traceback (most recent call last)",
      "\u001B[36mCell\u001B[39m\u001B[36m \u001B[39m\u001B[32mIn[3]\u001B[39m\u001B[32m, line 1\u001B[39m\n\u001B[32m----> \u001B[39m\u001B[32m1\u001B[39m zumi = \u001B[43mZumi\u001B[49m()\n\u001B[32m      2\u001B[39m zumi.reset_gyro()\n\u001B[32m      3\u001B[39m camera = Camera()\n",
      "\u001B[31mNameError\u001B[39m: name 'Zumi' is not defined"
     ]
    }
   ],
   "execution_count": 3
  },
  {
   "cell_type": "markdown",
   "id": "e5021d2d",
   "metadata": {},
   "source": [
    "## search_curve"
   ]
  },
  {
   "cell_type": "code",
   "id": "6cda1e6e",
   "metadata": {
    "ExecuteTime": {
     "end_time": "2025-04-11T13:40:12.744060Z",
     "start_time": "2025-04-11T13:40:12.721376Z"
    }
   },
   "source": [
    "def search_curve(zumi, speed=30, threshold=150):\n",
    "    zumi.stop()\n",
    "    print(\"Linie verloren – starte gezielte Suche...\")\n",
    "\n",
    "    zumi.reset_gyro()\n",
    "    time.sleep(0.1)\n",
    "\n",
    "    # === Suche nach Westen/links (90 Grad) ===\n",
    "    zumi.turn(90)\n",
    "    time.sleep(0.3)\n",
    "    ir_readings = zumi.get_all_IR_data()\n",
    "    right_ir_bottom = ir_readings[1]\n",
    "    left_ir_bottom = ir_readings[3]\n",
    "\n",
    "    if left_ir_bottom > threshold and right_ir_bottom > threshold:\n",
    "        print(\"Linie im Westen gefunden.\")\n",
    "        zumi.reset_gyro()\n",
    "        return 0\n",
    "    if left_ir_bottom > threshold:\n",
    "        # Versuch Feinjustierung nach links\n",
    "        print(\"Linker Sensor sieht Linie – feinjustiere weiter nach links...\")\n",
    "        zumi.turn_left(20)\n",
    "        time.sleep(0.3)\n",
    "        ir_readings = zumi.get_all_IR_data()\n",
    "        if ir_readings[1] > threshold and ir_readings[3] > threshold:\n",
    "            print(\"Linie nach Feinjustierung im westen gefunden.\")\n",
    "            zumi.reset_gyro()\n",
    "            return 0\n",
    "\n",
    "    # === Suche nach Osten/rechts (-90 Grad) ===\n",
    "    zumi.turn(-90)  # -90 zurück + 20 zusätzliche Korrekturrichtung\n",
    "    time.sleep(0.3)\n",
    "    ir_readings = zumi.get_all_IR_data()\n",
    "    right_ir_bottom = ir_readings[1]\n",
    "    left_ir_bottom = ir_readings[3]\n",
    "\n",
    "    if left_ir_bottom > threshold and right_ir_bottom > threshold:\n",
    "        print(\"Linie im Osten gefunden.\")\n",
    "        zumi.reset_gyro()\n",
    "        return 0\n",
    "    if right_ir_bottom > threshold:\n",
    "        # Feinjustierung weiter nach rechts\n",
    "        print(\"Rechter Sensor sieht Linie – feinjustiere weiter nach rechts...\")\n",
    "        zumi.turn_right(20)\n",
    "        time.sleep(0.3)\n",
    "        ir_readings = zumi.get_all_IR_data()\n",
    "        if ir_readings[1] > threshold and ir_readings[3] > threshold:\n",
    "            print(\"Linie nach Feinjustierung im Osten gefunden.\")\n",
    "            zumi.reset_gyro()\n",
    "            return 0\n",
    "\n",
    "    # === Keine Linie gefunden ===\n",
    "    print(\"Keine Linie erkannt.\")\n",
    "    return None\n"
   ],
   "outputs": [],
   "execution_count": 4
  },
  {
   "cell_type": "markdown",
   "id": "9e896b43",
   "metadata": {},
   "source": [
    "## follow_line"
   ]
  },
  {
   "cell_type": "code",
   "id": "6e3767ea",
   "metadata": {
    "ExecuteTime": {
     "end_time": "2025-04-11T13:40:15.780730Z",
     "start_time": "2025-04-11T13:40:15.773258Z"
    }
   },
   "source": [
    "def follow_line(zumi, duration=120, speed=30, threshold=150, ir_threshold_left=180, ir_threshold_right=190):\n",
    "    heading = 0\n",
    "    start_time = time.time()\n",
    "\n",
    "    while time.time() - start_time < duration:\n",
    "        ir_readings = zumi.get_all_IR_data()\n",
    "        right_ir_bottom = ir_readings[1]\n",
    "        left_ir_bottom = ir_readings[3]\n",
    "        left_ir_front = ir_readings[5]\n",
    "        right_ir_front = ir_readings[0]\n",
    "        \n",
    "        # Erste Prüfung – beide Sensoren müssen über der Schwelle sein\n",
    "        if left_ir_front < ir_threshold_left or right_ir_front < ir_threshold_right:\n",
    "            object_ahead(zumi, screen, personality, ir_threshold_left, ir_threshold_right)\n",
    "        \n",
    "\n",
    "        if left_ir_bottom > threshold and right_ir_bottom <= threshold:\n",
    "            heading += 5\n",
    "        elif right_ir_bottom > threshold and left_ir_bottom <= threshold:\n",
    "            heading -= 5\n",
    "        elif left_ir_bottom <= threshold and right_ir_bottom <= threshold:\n",
    "            zumi.stop()\n",
    "            print(\"Linie verloren – suche neue Richtung...\")\n",
    "            new_heading = search_curve(zumi, speed, threshold)\n",
    "            if new_heading is not None:\n",
    "                heading = new_heading\n",
    "                continue\n",
    "            else:\n",
    "                print(\"Suche gescheitert – Programmabbruch.\")\n",
    "                break\n",
    "\n",
    "        zumi.go_straight(speed, heading)\n",
    "        time.sleep(0.005)\n",
    "\n",
    "    zumi.stop()\n"
   ],
   "outputs": [],
   "execution_count": 5
  },
  {
   "cell_type": "markdown",
   "id": "daeffc6a",
   "metadata": {},
   "source": [
    "## read_qr_message"
   ]
  },
  {
   "cell_type": "code",
   "id": "0ee0605d",
   "metadata": {
    "ExecuteTime": {
     "end_time": "2025-04-11T13:40:17.419282Z",
     "start_time": "2025-04-11T13:40:17.407046Z"
    }
   },
   "source": [
    "def read_qr_message(image):\n",
    "    qr_code = vision.find_QR_code(image)\n",
    "    if qr_code is not None:\n",
    "        message = vision.get_QR_message(qr_code)\n",
    "        print(\"QR-Code erkannt:\", message)\n",
    "        return message\n",
    "    else:\n",
    "        return None"
   ],
   "outputs": [],
   "execution_count": 6
  },
  {
   "cell_type": "markdown",
   "id": "def59f3f",
   "metadata": {},
   "source": [
    "## handle_qr_action"
   ]
  },
  {
   "metadata": {
    "ExecuteTime": {
     "end_time": "2025-04-11T13:40:21.530785Z",
     "start_time": "2025-04-11T13:40:21.516273Z"
    }
   },
   "cell_type": "code",
   "source": [
    "import re\n",
    "def handle_qr_action(message, zumi, screen, personality, treshold_white_stop = 100):\n",
    "    emotions = [\"Zumi is happy today!\", \"Zumi is angry today!\", \"Zumi is celebrating today!\"]\n",
    "    directions = [\"Turn Right\", \"Turn Left\", \"Right Circle\", \"Left Circle\"]\n",
    "    feature_task = [\"360 nach Links\", \"360 nach rechts\"]\n",
    "    if any(keyword in message for keyword in feature_task):\n",
    "        print(\"Fahre langsam vor zur Kreuzung...\")\n",
    "        \n",
    "        match = re.search(r'(\\d+)\\s*x?\\s*360', message)\n",
    "        if match:\n",
    "            num_turns = int(match.group(1))  # Extrahierte Zahl (z. B. \"2\" aus \"2x 360 nach links\")\n",
    "        else:\n",
    "            num_turns = 1  # Falls keine Zahl angegeben ist, gehe von 1 Drehung aus\n",
    "\n",
    "        while True:\n",
    "            ir_readings = zumi.get_all_IR_data()\n",
    "            left_ir_bottom = ir_readings[3]\n",
    "            right_ir_bottom = ir_readings[1]\n",
    "\n",
    "            # Schwellenwert z. B. < 100 = weiß erkannt\n",
    "            if left_ir_bottom <= treshold_white_stop and right_ir_bottom <= treshold_white_stop:\n",
    "                zumi.stop()\n",
    "                print(\"Weiße Fläche erkannt – führe QR-Aktion aus\")\n",
    "                break\n",
    "\n",
    "            zumi.go_straight(10, 0)  # langsam geradeaus\n",
    "            time.sleep(0.05)\n",
    "        if \"nach Links\" in message and \"360\" in message:\n",
    "            print(f\"QR-Aktion: {num_turns} mal 360 Grad nach links drehen\")\n",
    "            for _ in range(num_turns):\n",
    "                zumi.turn_left(360, 3)\n",
    "            zumi.forward(2)\n",
    "\n",
    "        elif \"nach rechts\" in message and \"360\" in message:\n",
    "            print(f\"QR-Aktion: {num_turns} mal 360 Grad nach rechts drehen\")\n",
    "            for _ in range(num_turns):\n",
    "                zumi.turn_right(360, 3)\n",
    "            zumi.forward(2)\n",
    "    \n",
    "    elif message in directions:\n",
    "        print(\"Fahre langsam vor zur Kreuzung...\")\n",
    "        while True:\n",
    "            ir_readings = zumi.get_all_IR_data()\n",
    "            left_ir_bottom = ir_readings[3]\n",
    "            right_ir_bottom = ir_readings[1]\n",
    "\n",
    "            # Schwellenwert z. B. < 100 = weiß erkannt\n",
    "            if left_ir_bottom <= treshold_white_stop and right_ir_bottom <= treshold_white_stop:\n",
    "                zumi.stop()\n",
    "                print(\"Weiße Fläche erkannt – führe QR-Aktion aus\")\n",
    "                break\n",
    "\n",
    "            zumi.go_straight(10, 0)  # langsam geradeaus\n",
    "            time.sleep(0.05)\n",
    "            \n",
    "              \n",
    "        if message == \"Turn Right\":\n",
    "            print(\"QR-Aktion: Rechts abbiegen\")\n",
    "            zumi.turn_right(-90)\n",
    "\n",
    "        elif message == \"Turn Left\":\n",
    "            print(\"QR-Aktion: Links abbiegen\")\n",
    "            zumi.turn_left(90)\n",
    "\n",
    "        elif message == \"Right Circle\":\n",
    "            print(\"QR-Aktion: Rechtskreis\")\n",
    "            zumi.right_circle(speed=10, step=2)\n",
    "            zumi.stop()\n",
    "\n",
    "        elif message == \"Left Circle\":\n",
    "            print(\"QR-Aktion: Linkskreis\")\n",
    "            zumi.left_circle(speed=10, step=2)\n",
    "            zumi.stop()\n",
    "\n",
    "        #elif message == \"Right Circle\":\n",
    "        #    print(\"QR-Aktion: Rechtskreis\")\n",
    "        #    for i in range(4):\n",
    "        #        zumi.turn_right(-90)\n",
    "        #        zumi.go_straight(30, 0)\n",
    "        #        time.sleep(1)\n",
    "        #    zumi.turn_left(90)\n",
    "        #    zumi.go_straight(30, 0)\n",
    "        #    time.sleep(1)\n",
    "        #    zumi.stop()\n",
    "\n",
    "        #elif message == \"Left Circle\":\n",
    "        #    print(\"QR-Aktion: Linkskreis\")\n",
    "        #    for i in range(4):\n",
    "        #        zumi.turn_left(90)\n",
    "        #        zumi.go_straight(30, 0)\n",
    "        #        time.sleep(1)\n",
    "        #    zumi.turn_right(-90)\n",
    "        #    zumi.go_straight(30, 0)\n",
    "        #    time.sleep(1)\n",
    "        #    zumi.stop()\n",
    "\n",
    "    elif message in emotions:\n",
    "        print(\"Fahre langsam zur Zielzone...\")\n",
    "\n",
    "        while True:\n",
    "            ir_readings = zumi.get_all_IR_data()\n",
    "            left_ir_bottom = ir_readings[3]\n",
    "            right_ir_bottom = ir_readings[1]\n",
    "\n",
    "            if left_ir_bottom <= treshold_white_stop and right_ir_bottom <= treshold_white_stop:\n",
    "                zumi.stop()\n",
    "                print(\"Weiße Zielfläche erreicht – führe Emotion aus\")\n",
    "                break\n",
    "\n",
    "            zumi.go_straight(10, 0)\n",
    "            time.sleep(0.05)\n",
    "\n",
    "        if message == \"Zumi is happy today!\":\n",
    "            print(\"QR-Aktion: Freude anzeigen\")\n",
    "            screen.happy()\n",
    "            personality.happy()\n",
    "\n",
    "        elif message == \"Zumi is angry today!\":\n",
    "            print(\"QR-Aktion: Wut anzeigen\")\n",
    "            screen.angry()\n",
    "            personality.angry()\n",
    "\n",
    "        elif message == \"Zumi is celebrating today!\":\n",
    "            print(\"QR-Aktion: Feier-Modus\")\n",
    "            personality.celebrate()\n",
    "\n",
    "        print(\"Zumi ist am Ziel angekommen und bleibt stehen.\")\n",
    "        while True:\n",
    "            zumi.stop()\n",
    "            time.sleep(1)  # Endlosschleife = vollständiger Stopp\n",
    "\n",
    "\n",
    "    #elif message == \"Stop\":\n",
    "    #    print(\"QR-Aktion: Stop – Zumi hält an\")\n",
    "    #    zumi.stop()\n",
    "\n",
    "    #elif message == \"Park\":\n",
    "    #    None\n",
    "\n",
    "    #elif message == \"Drive Round Road\":\n",
    "    #    None\n",
    "\n",
    "\n",
    "    else:\n",
    "        print(\"QR-Inhalt unbekannt:\", message)\n",
    "\n",
    "    time.sleep(1.0)  # kleine Pause nach der Aktion\n"
   ],
   "id": "149de69c1ba678e7",
   "outputs": [],
   "execution_count": 7
  },
  {
   "cell_type": "markdown",
   "id": "2baa42e2",
   "metadata": {},
   "source": [
    "## object_ahead"
   ]
  },
  {
   "cell_type": "code",
   "id": "fef3790c",
   "metadata": {
    "ExecuteTime": {
     "end_time": "2025-04-11T13:40:23.865273Z",
     "start_time": "2025-04-11T13:40:23.848336Z"
    }
   },
   "source": [
    "def object_ahead(zumi, screen, personality, ir_threshold_left, ir_threshold_right):\n",
    "    ir_readings = zumi.get_all_IR_data()\n",
    "    left_ir_front = ir_readings[5]\n",
    "    right_ir_front = ir_readings[0]\n",
    "\n",
    "    print(\"IR vorne (1. Messung): IR0 =\", right_ir_front, \"IR5 =\", left_ir_front)\n",
    "\n",
    "    # Erste Prüfung – beide Sensoren müssen über der Schwelle sein\n",
    "    if left_ir_front < ir_threshold_left or right_ir_front < ir_threshold_right:\n",
    "        zumi.stop()\n",
    "        print(\"Objekt bestätigt – Kamera wird aktiviert.\")\n",
    "        time.sleep(0.7)  # kleine Verzögerung\n",
    "\n",
    "        try:\n",
    "            camera.start_camera()\n",
    "            time.sleep(0.9)\n",
    "            image = camera.capture()\n",
    "            camera.show_image(image)\n",
    "            message = read_qr_message(image)\n",
    "            time.sleep(1.0)\n",
    "\n",
    "            if message is not None:\n",
    "                print(\"QR erkannt – führe Aktion aus\")\n",
    "                handle_qr_action(message, zumi, screen, personality)\n",
    "                time.sleep(1.0)\n",
    "            else:\n",
    "                print(\"Kein QR-Code – warte auf Objekt-Entfernung...\")\n",
    "                while True:\n",
    "                    ir_readings = zumi.get_all_IR_data()\n",
    "                    left_ir_front = ir_readings[5]\n",
    "                    right_ir_front = ir_readings[0]\n",
    "                    if left_ir_front > ir_threshold_left and right_ir_front > ir_threshold_right:\n",
    "                        print(\"Objekt entfernt – weiterfahren.\")\n",
    "                        break\n",
    "                    time.sleep(0.2)\n",
    "\n",
    "        finally:\n",
    "            camera.close()\n",
    "            print(\"Kamera geschlossen.\")\n",
    "        return True\n",
    "\n",
    "    return False\n"
   ],
   "outputs": [],
   "execution_count": 8
  },
  {
   "cell_type": "markdown",
   "id": "f9d9f352",
   "metadata": {},
   "source": [
    "# Init Func. Full course"
   ]
  },
  {
   "cell_type": "code",
   "id": "a4d4d610",
   "metadata": {
    "ExecuteTime": {
     "end_time": "2025-04-11T13:40:33.061417Z",
     "start_time": "2025-04-11T13:40:33.043561Z"
    }
   },
   "source": [
    "def drive_course(zumi, screen, personality, total_time=60, block_duration=5, speed=30, threshold=150, ir_threshold_left=170, ir_threshold_right=180, treshold_white_stop = 100):\n",
    "    \n",
    "    print(\"Starte Parkour-Fahrt mit QR-Logik...\")\n",
    "    start_time = time.time()\n",
    "\n",
    "    while time.time() - start_time < total_time:\n",
    "        print(\"Starte neuen Block...\")\n",
    "\n",
    "        # Linien folgen für festgelegte Zeit\n",
    "        follow_line(zumi, duration=block_duration, speed=speed, threshold=threshold)\n",
    "\n",
    "    zumi.stop()\n",
    "    print(\"Parkour abgeschlossen.\")\n"
   ],
   "outputs": [],
   "execution_count": 10
  },
  {
   "cell_type": "code",
   "id": "bc95e476",
   "metadata": {
    "ExecuteTime": {
     "end_time": "2025-04-11T13:42:11.537482Z",
     "start_time": "2025-04-11T13:42:11.492530Z"
    }
   },
   "source": [
    "# Func zum starten (total time auf contest eingestellt -> 2 mins)\n",
    "zumi = Zumi()\n",
    "zumi.mpu.calibrate_MPU()\n",
    "zumi.reset_gyro()\n",
    "camera = Camera()\n",
    "screen = Screen()\n",
    "personality = Personality(zumi, screen)\n",
    "vision = Vision()\n",
    "drive_course(zumi, screen, personality, total_time=120, block_duration=6, speed=15, threshold=150, ir_threshold_left=170, ir_threshold_right=180, treshold_white_stop = 100)"
   ],
   "outputs": [
    {
     "ename": "NameError",
     "evalue": "name 'Zumi' is not defined",
     "output_type": "error",
     "traceback": [
      "\u001B[31m---------------------------------------------------------------------------\u001B[39m",
      "\u001B[31mNameError\u001B[39m                                 Traceback (most recent call last)",
      "\u001B[36mCell\u001B[39m\u001B[36m \u001B[39m\u001B[32mIn[11]\u001B[39m\u001B[32m, line 2\u001B[39m\n\u001B[32m      1\u001B[39m \u001B[38;5;66;03m# Func zum starten (total time auf contest eingestellt -> 2 mins)\u001B[39;00m\n\u001B[32m----> \u001B[39m\u001B[32m2\u001B[39m zumi = \u001B[43mZumi\u001B[49m()\n\u001B[32m      3\u001B[39m zumi.mpu.calibrate_MPU()\n\u001B[32m      4\u001B[39m zumi.reset_gyro()\n",
      "\u001B[31mNameError\u001B[39m: name 'Zumi' is not defined"
     ]
    }
   ],
   "execution_count": 11
  },
  {
   "cell_type": "code",
   "execution_count": null,
   "id": "2ff5f32a",
   "metadata": {},
   "outputs": [],
   "source": [
    "# interrupt Kernel und zumi.stop() wenn verirrt \n",
    "zumi.stop()"
   ]
  },
  {
   "cell_type": "markdown",
   "id": "22e812be",
   "metadata": {},
   "source": [
    "# TESTS IR, CAM"
   ]
  },
  {
   "cell_type": "code",
   "execution_count": null,
   "id": "4fae8763",
   "metadata": {},
   "outputs": [],
   "source": [
    "ir_readings = zumi.get_all_IR_data()\n",
    "left_ir_front = ir_readings[5]\n",
    "right_ir_front = ir_readings[0]\n",
    "\n",
    "print(\"IR vorne: IR0 =\", right_ir_front, \"IR5 =\", left_ir_front)"
   ]
  },
  {
   "cell_type": "code",
   "execution_count": null,
   "id": "eb355a8b",
   "metadata": {},
   "outputs": [],
   "source": [
    "camera.start_camera()\n",
    "time.sleep(0.3)\n",
    "image = camera.capture()\n",
    "camera.show_image(image)\n",
    "qr_code = vision.find_QR_code(image)\n",
    "\n",
    "if qr_code is not None:\n",
    "    print(\"QR erkannt:\", vision.get_QR_message(qr_code))\n",
    "else:\n",
    "    print(\"Kein QR erkannt.\")\n",
    "camera.close()\n"
   ]
  },
  {
   "cell_type": "markdown",
   "id": "3ba10dee",
   "metadata": {},
   "source": [
    "# ÄNDERUNGEN\n",
    "\n",
    "- Besser stoppen mit dynamischen Grenzen von IR Front sensoren nicht fixen schwellenwert -> Tageslichtunabhängig\n",
    "und/oder Bilderkennung QR codes -> Problem - wann Cam anschalten - müsste durchgehend laufen ? oder in Kombi mit dynamischen IR Grenzen möglich?\n",
    "- QR Code drive Round Road - alte Methode implementieren oder heading korrektur & time sleep (follow_line) erhöhen\n"
   ]
  },
  {
   "cell_type": "markdown",
   "id": "599eb005",
   "metadata": {},
   "source": [
    "# FAILS:\n",
    "\n",
    "- IR Front sensoren methode -> Tresholds Lichtabhängig - siehe änderungen oben\n",
    "- Zumi liest QR code Stop, hält kurz an - fährt dann aber weiter\n",
    "- Zumi QR Right/Left Circle -> runder Kreis funzt nicht (optional) sonst eif eckiger Kreis fahren - auskommentiert\n"
   ]
  }
 ],
 "metadata": {
  "kernelspec": {
   "display_name": "base",
   "language": "python",
   "name": "python3"
  },
  "language_info": {
   "codemirror_mode": {
    "name": "ipython",
    "version": 3
   },
   "file_extension": ".py",
   "mimetype": "text/x-python",
   "name": "python",
   "nbconvert_exporter": "python",
   "pygments_lexer": "ipython3",
   "version": "3.12.4"
  }
 },
 "nbformat": 4,
 "nbformat_minor": 5
}
